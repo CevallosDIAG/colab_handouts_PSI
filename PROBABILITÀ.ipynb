{
  "nbformat": 4,
  "nbformat_minor": 0,
  "metadata": {
    "colab": {
      "provenance": [],
      "authorship_tag": "ABX9TyNZc2GU8JgVtxnBiFCPN6gR",
      "include_colab_link": true
    },
    "kernelspec": {
      "name": "python3",
      "display_name": "Python 3"
    },
    "language_info": {
      "name": "python"
    }
  },
  "cells": [
    {
      "cell_type": "markdown",
      "metadata": {
        "id": "view-in-github",
        "colab_type": "text"
      },
      "source": [
        "<a href=\"https://colab.research.google.com/github/QwertyJacob/colab_handouts_PSI/blob/main/PROBABILIT%C3%80.ipynb\" target=\"_parent\"><img src=\"https://colab.research.google.com/assets/colab-badge.svg\" alt=\"Open In Colab\"/></a>"
      ]
    },
    {
      "cell_type": "markdown",
      "source": [
        "# Probabilità\n",
        "\n",
        "Eseguiremo degli esperimenti - che potrebbero essere praticamente qualsiasi cosa, dal lancio di una moneta, al mangiare troppi grassi saturi,\n",
        "al fumo, all'attraversare la strada senza guardare - e ragioneremo sui risultati (per lo più negativi per gli esempi che ho fatto). Ma\n",
        "questi esiti sono incerti e dobbiamo soppesare le incertezze l'una con l'altra.\n",
        "\n",
        "Se lancio una moneta, posso ottenere testa o croce, e non c'è motivo di aspettarsi di vederne uno più spesso dell'altro. Se mangio troppi grassi saturi o fumo, avrò molto probabilmente dei problemi, anche se non è detto. Se attraverso la strada senza guardare, potrei essere schiacciato da un camion oppure no.\n",
        "**I nostri metodi devono tenere conto anche delle informazioni**. Se guardo prima di attraversare la strada, ho molte meno probabilità di essere schiacciato.\n",
        "\n",
        "\n",
        "\n",
        "> La probabilità è il meccanismo che utilizziamo per descrivere e tenere conto del fatto che alcuni risultati sono più frequenti di altri.\n",
        "\n"
      ],
      "metadata": {
        "id": "CBfDVT6mSOyQ"
      }
    },
    {
      "cell_type": "markdown",
      "source": [
        "Immaginate di ripetere lo stesso esperimento più volte. Non ci si aspetta necessariamente di vedere ogni volta lo stesso risultato.\n",
        "\n",
        "\n",
        "\n",
        "> Alcuni risultati potrebbero verificarsi più frequentemente di altri. Per tenere conto di questa tendenza utilizziamo la probabilità.\n",
        "\n",
        "\n",
        "\n",
        "Per farlo, dobbiamo essere chiari su quali risultati può avere un esperimento. Ad esempio, si lancia una moneta. Potremmo essere d'accordo sul fatto che gli unici risultati possibili sono testa o coda, ignorando così le possibilità che (ad esempio) un uccello scenda in picchiata e rubi la moneta; che la moneta atterri e rimanga in bilico; che la moneta cada in un angolo e rimanga sul bordo; la moneta cada tra le fessure del pavimento e scompaia; e così via.\n",
        "\n",
        "Così facendo, abbiamo *idealizzato l'esperimento*.\n",
        "\n"
      ],
      "metadata": {
        "id": "hDn0vZhvS9N2"
      }
    },
    {
      "cell_type": "markdown",
      "source": [
        "## Esiti di un esperimento aleatorio\n",
        "\n",
        "Formalizzeremo gli esperimenti specificando l'insieme degli **esiti** che ci aspettiamo dall'esperimento. Ogni esecuzione dell'esperimento produce **esattamente uno** dei risultati possibili. Non si vedono mai due o più risultati da un singolo esperimento e non vediamo mai *nessun* risultato.\n",
        "\n",
        "Il vantaggio di ragionare in questo modo è che possiamo contare la frequenza con cui ogni esito appare.\n"
      ],
      "metadata": {
        "id": "DMidUrNZTZs9"
      }
    },
    {
      "cell_type": "markdown",
      "source": [
        "\n",
        "\n",
        "> Definizione **Spazio campionario**: Lo spazio campionario è l'insieme di tutti gli esiti possibili di un esperimento aleatorio, e verrà indicato con la lettera Omega maiuscola ($\\Omega$).\n",
        "\n"
      ],
      "metadata": {
        "id": "tXkVx7nZT0vU"
      }
    },
    {
      "cell_type": "markdown",
      "source": [
        "\n",
        "\n",
        "> Esempio: Abbiamo tre carte da gioco. Una è una regina, una è un re e una è un fante. Tutte vengono messe a faccia in giù e una viene scelta a caso e girata. *Qual è l'insieme dei risultati?*\n",
        "\n",
        "\n",
        "*Soluzione*: Scrivete $Q$ per regina, $K$ per re, $J$ per fante; i risultati possibili saranno nell'insieme: $\\Omega = \\{Q; K; J\\}$\n",
        "\n",
        "> Giochiamo a trovare la regina due volte, sostituendo la carta che abbiamo scelto. Qual è è lo spazio campione?\n",
        "\n",
        "\n",
        "*Soluzione:* $ \\Omega = \\{QQ; QK; QN; KQ; KK; KJ; JQ; JK; JJ\\} $"
      ],
      "metadata": {
        "id": "WcK1aokHUN-z"
      }
    },
    {
      "cell_type": "markdown",
      "source": [
        "> *Esempio*: Una coppia decide di avere dei figli. Poiché non conoscono la matematica, decidono di avere figli finché non nasce (in sequenza) una femmina e poi un maschio. Qual è lo spazio campionario? Questa strategia *limita* il numero di figli che potrebbero avere?\n",
        "\n",
        "*Soluzione*: Scrivere $B$ per maschio, $G$ per femmina. Lo spazio campione è costituito da una qualsiasi stringa di $B$ e $G$ che (a) termina con $GB$ e (b)\n",
        "non contiene altri $GB$.\n",
        "\n",
        "Nella notazione delle *espressioni regolari*, è possibile scrivere tali stringhe come $B*G^+B$. Esiste un limite inferiore alla lunghezza della stringa (due), ma nessun limite superiore. Come strategia di pianificazione familiare, questa non è realistica, ma serve a illustrare il fatto che **gli spazi campionari non devono essere necessariamente finiti per essere trattabili.**"
      ],
      "metadata": {
        "id": "7fTmJeVamCTl"
      }
    },
    {
      "cell_type": "markdown",
      "source": [
        "> Ricordate questo: **Gli spazi campione sono sempre richiesti in un esercizio di probabilità, ma non devono essere necessariamente finiti.**"
      ],
      "metadata": {
        "id": "S6dO2AU2mr8a"
      }
    },
    {
      "cell_type": "markdown",
      "source": [
        "## Definizione frequentista della probabilità:\n",
        "____________\n",
        "\n",
        ">"
      ],
      "metadata": {
        "id": "HFRIT6JHm_D2"
      }
    },
    {
      "cell_type": "markdown",
      "source": [
        "> Rappresentiamo il nostro modello della frequenza con cui un particolare risultato si verificherà in un esperimento ripetuto con una **probabilità**, un numero **non negativo.** Questo numero fornisce la frequenza relativa dell'esito di interesse, quando un esperimento viene ripetuto un numero\n",
        "un numero molto elevato di volte."
      ],
      "metadata": {
        "id": "pJSk2yPHnKPN"
      }
    },
    {
      "cell_type": "markdown",
      "source": [
        "Supponiamo di ripetere un esperimento $N$ volte. Supponiamo anche che le monete, i dadi, o qualsiasi altra cosa coinvolta in ogni ripetizione dell'esperimento non comunichino tra loro da un esperimento all'altro (o, equivalentemente, che gli esperimenti non \"sappiano\" l'uno dell'altro). Diciamo che un esito $A$ ha probabilità $P$ se:\n",
        "\n",
        "\n",
        "\n",
        "1.   l'esito $A$ si verifica in circa in $NP$ occasioni, e man mano $N$ si avvicina a $A$, il numero di volte in cui l'esito $A$ si verifica è sempre più precisamente pari a $NP$.\n",
        "2. Al crescere di $N$, la *frazione* di esperimenti in cui si verifica il risultato $A$ si avvicina a $P$.\n",
        "\n",
        "Scriviamo $\\#A$ per indicare il numero di volte in cui si verifica l'esito $A$. Interpretiamo quindi $P$ come:\n",
        "\n",
        "$$ P = \\lim_{N \\to \\infty} \\frac{\\# A}{N}$$\n",
        "\n",
        "\n",
        "Da questa equazione possiamo subito notare due cose:\n",
        "\n",
        "1. Per qualsiasi esito $A$, si ha che: $ 0 \\leq P(A) \\leq 1 $\n",
        "2. $\\sum_{A_i \\in \\Omega} P(A_i) = 1 $\n",
        "\n",
        "Ricordate che ogni esecuzione dell'esperimento produce esattamente un esito. Le probabilità sommano uno perché ogni esecuzione deve avere uno dei risultati presenti nello spazio campionario.\n",
        "\n",
        "Alcuni problemi possono essere gestiti costruendo un insieme di esiti e ragionando semplicemente sulla cardinalità di $\\Omega$. Questo è particolarmente utile quando i risultati hanno la stessa probabilità, cosa che accade spesso.\n",
        "\n"
      ],
      "metadata": {
        "id": "ltviApyInkq8"
      }
    },
    {
      "cell_type": "markdown",
      "source": [
        "> *Esempio*: Supponiamo di avere una moneta in cui la probabilità di ottenere testa è $P(H) = \\frac13$, e quindi la probabilità di ottenere croce è $P(T) = \\frac23$. Lanciamo questa moneta tre milioni di volte. Quante volte vediamo\n",
        "teste?\n",
        "\n",
        "*Soluzione:* $P(H) = \\frac13$, quindi ci aspettiamo che la moneta esca testa in $frac13$ degli esperimenti. Ciò significa che molto probabilmente vedremo quasi un milione di teste. In seguito, saremo in grado di essere più precisi.\n",
        "\n",
        "> *Ricordate:* **La probabilità di un risultato è la frequenza di quel risultato in un numero molto elevato di esperimenti ripetuti.** e  **La somma delle probabilità di tutti gli esiti deve essere pari a uno.**"
      ],
      "metadata": {
        "id": "w52KQy-Kq6vF"
      }
    },
    {
      "cell_type": "markdown",
      "source": [
        "## Eventi:\n",
        "_____________\n",
        "\n",
        "\n",
        "Supponiamo di eseguire un esperimento e di ottenere un risultato (esito). Sappiamo quali sono i possibili risultati (questo è lo scopo di uno spazio campionario). Ciò significa che possiamo dire se il risultato ottenuto appartiene a un particolare* insieme noto di risultati*. Basta guardare in tale insieme e vedere se il nostro risultato è lì. Questo significa che dovremmo essere in grado di prevedere la probabilità di un insieme di esiti a partire da\n",
        "qualsiasi modello ragionevole di esperimento. Per esempio, possiamo lanciare un dado e chiederci quale sia la probabilità di ottenere un numero pari.\n",
        "numero pari. Vorremmo che i nostri modelli di probabilità fossero in grado di prevedere la probabilità di insiemi di risultati.\n",
        "*italicized text*\n",
        "\n",
        "\n",
        "> **Definizione (Evento)** Un evento è un insieme di risultati. Di solito scrivo gli eventi come insiemi, per esempio, $\\mathcal{E}$.\n",
        "\n",
        "\n",
        "Supponiamo di avere uno spazio campionario discreto $\\Omega$. Una scelta naturale di uno spazio degli eventi è l'insieme di tutti i sottoinsiemi di $\\Omega$. (Questa non è l'unica scelta possibile, ma ignoreremo questo punto).\n",
        "\n",
        "Finora, abbiamo descritto la probabilità di ogni risultato con un numero non negativo. Possiamo estendere questa idea di probabilità per trattare gli eventi in modo semplice. L'insieme di tutti gli esiti, che abbiamo scritto, deve essere un evento. Dobbiamo avere quindi che $P(\\Omega) = 1$ (perché abbiamo detto che ogni esecuzione di un esperimento produce un risultato, e questo risultato deve essere in $\\Omega$).\n",
        "\n",
        "\n",
        "\n",
        "Si noti che l'insieme vuoto, che scriviamo $\\emptyset$, è anch'esso un evento, e abbiamo che $P(\\emptyset)= 0, perché sempre ci sarà almeno un esito.\n",
        "\n",
        "Ogni esito deve anch'esso costituire un evento, perché un evento è un insieme di esiti. Supponiamo ora che $A$ e $B$ siano due esiti distinti e scriviamo $\\mathcal{E} = \\{A, B\\}$ per denotale l'evento che li contiene entrambi. Si deve avere che $P(\\mathcal{E}) = P(A) +P(B)$, perché il numero di volte che si ottiene un esito in $\\mathcal{E}$ è dato dal numero di volte in cui vediamo $A$ come esito più il numero di volte in cui vediamo $B$.\n",
        "\n",
        "Ora supponiamo che $C_i$ sono $N$ e che $\\mathcal{F}$ sia l'evento che li contiene tutti, e nessun altro esito. Allora si deve avere $P(\\mathcal{F}) = \\sum_i P(C_i)$ (perché osserviamo un esito in $\\mathcal{F}$ ogni volta che vediamo uno qualsiasi degli esiti in $C_i$). A sua volta, ciò significa che se $\\mathcal{E}$ e $\\mathcal{F}$ sono eventi disgiunti, $P(\\mathcal{E} \\cap \\mathcal{F}) = P(\\mathcal{E}) + P(\\mathcal{F})$. Tutto questo produce una serie di proprietà raccolte nel seguente riquadro:\n"
      ],
      "metadata": {
        "id": "th-T4SDorsjf"
      }
    },
    {
      "cell_type": "markdown",
      "source": [
        "### Proprietà di base della probabilità:\n",
        "__________________\n",
        "\n",
        "1. La probabilità di ogni evento è compresa tra zero e uno; in equazione:\n",
        "$$ 0 \\leq P(A) \\leq 1$$ per qualsiasi evento $A$.\n",
        "\n",
        "2. Ogni esperimento tiene un esito, in equazioni: $P(\\omega) = 1$.\n",
        "\n",
        "3. La probabilità di **eventi disgiunti** è additiva; per scriverla in equazioni è necessaria una certa notazione. Supponiamo di avere\n",
        "una collezione di eventi $A_i$ , indicizzati da $i$. Richiediamo che questi abbiano la proprietà $A_i \\cap A_j =  ∅ $ quando $i \\neq j$.\n",
        "\n",
        "Questo significa che non c'è nessun risultato che compaia in più di un insieme $A_i$. A sua volta, se interpretiamo la probabilità come una frequenza relativa,\n",
        "dobbiamo avere che\n",
        "\n",
        "$$P(\\cup_i A_i) = \\sum_i P(A_i)$$"
      ],
      "metadata": {
        "id": "7Q4Yhr2773gq"
      }
    }
  ]
}